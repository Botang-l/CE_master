{
 "cells": [
  {
   "cell_type": "code",
   "execution_count": 1,
   "metadata": {},
   "outputs": [
    {
     "name": "stdout",
     "output_type": "stream",
     "text": [
      "Set parameter Username\n",
      "Academic license - for non-commercial use only - expires 2023-09-09\n"
     ]
    }
   ],
   "source": [
    "from gurobipy import*\n",
    "import pandas as pd\n",
    "import re\n",
    "\n",
    "\n",
    "#建構Model https://www.gurobi.com/documentation/9.5/refman/py_model2.html \n",
    "m = Model()  # Model ( name=\"\", env=defaultEnv )\n",
    "\n",
    "\n",
    "#定義車班類別\n",
    "class train:\n",
    "    def __init__(self, SS, ES, ST,ET):\n",
    "        self.SS = SS\n",
    "        self.ES = ES\n",
    "        self.ST = ST\n",
    "        self.ET = ET\n",
    "    def get_value(self):\n",
    "         print(\"； 出發站 :\", self.SS, \"； 到達站 :\", self.ES, \"； 出發時間 :\", self.ST, \"； 到達時間 :\", self.ET)\n",
    "\n",
    "\n",
    "# 讀取車班資料\n",
    "df = pd.read_csv('TRA1.csv', sep=\",\")\n",
    "df = df[df['INDEX']<=50]\n",
    "\n",
    "# 將每個車班資料的類別逐一定義並放進 List 中。\n",
    "T = []\n",
    "for data in df.iterrows():\n",
    "    data = data[1]\n",
    "    T.append(train(data['ID_FROM'],data['ID_TO'],data['TIME_START'],data['TIME_END']))"
   ]
  },
  {
   "cell_type": "code",
   "execution_count": 4,
   "metadata": {},
   "outputs": [
    {
     "name": "stdout",
     "output_type": "stream",
     "text": [
      "； 出發站 : 1 ； 到達站 : 2 ； 出發時間 : 1178 ； 到達時間 : 1427\n"
     ]
    }
   ],
   "source": [
    "T[0].get_value()"
   ]
  },
  {
   "cell_type": "code",
   "execution_count": 5,
   "metadata": {},
   "outputs": [],
   "source": [
    "T_test = [T[i] for i in range(10)]"
   ]
  },
  {
   "cell_type": "code",
   "execution_count": 9,
   "metadata": {},
   "outputs": [
    {
     "name": "stdout",
     "output_type": "stream",
     "text": [
      "； 出發站 : 1 ； 到達站 : 4 ； 出發時間 : 854 ； 到達時間 : 910\n",
      "None\n"
     ]
    }
   ],
   "source": [
    "print(T_test[2].get_value())"
   ]
  },
  {
   "cell_type": "code",
   "execution_count": 10,
   "metadata": {},
   "outputs": [
    {
     "name": "stdout",
     "output_type": "stream",
     "text": [
      "； 出發站 : 4 ； 到達站 : 1 ； 出發時間 : 1032 ； 到達時間 : 1124\n",
      "None\n"
     ]
    }
   ],
   "source": [
    "print(T_test[3].get_value())"
   ]
  },
  {
   "cell_type": "code",
   "execution_count": 11,
   "metadata": {},
   "outputs": [
    {
     "name": "stdout",
     "output_type": "stream",
     "text": [
      "； 出發站 : 1 ； 到達站 : 2 ； 出發時間 : 1178 ； 到達時間 : 1427\n",
      "None\n",
      "； 出發站 : 2 ； 到達站 : 1 ； 出發時間 : 685 ； 到達時間 : 928\n",
      "None\n",
      "； 出發站 : 1 ； 到達站 : 4 ； 出發時間 : 854 ； 到達時間 : 910\n",
      "None\n",
      "； 出發站 : 4 ； 到達站 : 1 ； 出發時間 : 1032 ； 到達時間 : 1124\n",
      "None\n",
      "； 出發站 : 1 ； 到達站 : 3 ； 出發時間 : 336 ； 到達時間 : 512\n",
      "None\n",
      "； 出發站 : 3 ； 到達站 : 1 ； 出發時間 : 647 ； 到達時間 : 842\n",
      "None\n",
      "； 出發站 : 1 ； 到達站 : 5 ； 出發時間 : 827 ； 到達時間 : 994\n",
      "None\n",
      "； 出發站 : 5 ； 到達站 : 1 ； 出發時間 : 1025 ； 到達時間 : 1208\n",
      "None\n",
      "； 出發站 : 1 ； 到達站 : 4 ； 出發時間 : 408 ； 到達時間 : 492\n",
      "None\n",
      "； 出發站 : 4 ； 到達站 : 1 ； 出發時間 : 538 ； 到達時間 : 639\n",
      "None\n"
     ]
    }
   ],
   "source": [
    "for i in range(len(T_test)):\n",
    "    print(T_test[i].get_value())"
   ]
  },
  {
   "cell_type": "code",
   "execution_count": 15,
   "metadata": {},
   "outputs": [
    {
     "data": {
      "text/plain": [
       "(2, 3, 10)"
      ]
     },
     "execution_count": 15,
     "metadata": {},
     "output_type": "execute_result"
    }
   ],
   "source": [
    "# 前10台車裡面，除了將第2, 3台合併外，其他一樣\n",
    "import numpy as np\n",
    "T_ans = []\n",
    "num = np.array([[[0,0,0,0,1,0,0,0,0,0],[0,0,0,0,0,1,0,0,0,0],[0,0,0,0,0,0,0,0,0,0]],[[0,0,0,0,0,0,0,0,0,1],[0,0,1,0,0,0,0,0,0,0],[0,0,0,0,0,0,0,0,0,0]]])\n",
    "num.shape\n",
    "        "
   ]
  },
  {
   "cell_type": "code",
   "execution_count": null,
   "metadata": {},
   "outputs": [],
   "source": [
    "for i in range(num.shape[0]):\n",
    "    start = 0\n",
    "    end = 0\n",
    "    for j in range(num.shape[1]):\n",
    "        for k in range(num.shape[2]):\n",
    "            if (num[i,j,k]==1):\n",
    "                end += 1\n",
    "\n"
   ]
  },
  {
   "cell_type": "code",
   "execution_count": 17,
   "metadata": {},
   "outputs": [
    {
     "data": {
      "text/html": [
       "<div>\n",
       "<style scoped>\n",
       "    .dataframe tbody tr th:only-of-type {\n",
       "        vertical-align: middle;\n",
       "    }\n",
       "\n",
       "    .dataframe tbody tr th {\n",
       "        vertical-align: top;\n",
       "    }\n",
       "\n",
       "    .dataframe thead th {\n",
       "        text-align: right;\n",
       "    }\n",
       "</style>\n",
       "<table border=\"1\" class=\"dataframe\">\n",
       "  <thead>\n",
       "    <tr style=\"text-align: right;\">\n",
       "      <th></th>\n",
       "      <th>name</th>\n",
       "      <th>math</th>\n",
       "      <th>chinese</th>\n",
       "      <th>what</th>\n",
       "    </tr>\n",
       "  </thead>\n",
       "  <tbody>\n",
       "    <tr>\n",
       "      <th>0</th>\n",
       "      <td>Mike</td>\n",
       "      <td>80</td>\n",
       "      <td>63</td>\n",
       "      <td>1</td>\n",
       "    </tr>\n",
       "    <tr>\n",
       "      <th>1</th>\n",
       "      <td>Sherry</td>\n",
       "      <td>75</td>\n",
       "      <td>90</td>\n",
       "      <td>1</td>\n",
       "    </tr>\n",
       "    <tr>\n",
       "      <th>2</th>\n",
       "      <td>Cindy</td>\n",
       "      <td>93</td>\n",
       "      <td>85</td>\n",
       "      <td>1</td>\n",
       "    </tr>\n",
       "    <tr>\n",
       "      <th>3</th>\n",
       "      <td>John</td>\n",
       "      <td>86</td>\n",
       "      <td>70</td>\n",
       "      <td>1</td>\n",
       "    </tr>\n",
       "  </tbody>\n",
       "</table>\n",
       "</div>"
      ],
      "text/plain": [
       "     name  math  chinese  what\n",
       "0    Mike    80       63     1\n",
       "1  Sherry    75       90     1\n",
       "2   Cindy    93       85     1\n",
       "3    John    86       70     1"
      ]
     },
     "execution_count": 17,
     "metadata": {},
     "output_type": "execute_result"
    }
   ],
   "source": [
    "import pandas as pd\n",
    "\n",
    "grades = {\n",
    "    \"name\": [\"Mike\", \"Sherry\", \"Cindy\", \"John\"],\n",
    "    \"math\": [80, 75, 93, 86],\n",
    "    \"chinese\": [63, 90, 85, 70]\n",
    "}\n",
    " \n",
    "df = pd.DataFrame(grades)\n",
    "df['what'] = 1\n",
    "df\n"
   ]
  },
  {
   "cell_type": "code",
   "execution_count": null,
   "metadata": {},
   "outputs": [],
   "source": []
  }
 ],
 "metadata": {
  "kernelspec": {
   "display_name": "Python 3",
   "language": "python",
   "name": "python3"
  },
  "language_info": {
   "codemirror_mode": {
    "name": "ipython",
    "version": 3
   },
   "file_extension": ".py",
   "mimetype": "text/x-python",
   "name": "python",
   "nbconvert_exporter": "python",
   "pygments_lexer": "ipython3",
   "version": "3.10.6"
  },
  "orig_nbformat": 4,
  "vscode": {
   "interpreter": {
    "hash": "9f32e29f85dbbd0b5b72d11109c42db7aa21d3406279ecdc66ca42ae05d6c5ee"
   }
  }
 },
 "nbformat": 4,
 "nbformat_minor": 2
}
